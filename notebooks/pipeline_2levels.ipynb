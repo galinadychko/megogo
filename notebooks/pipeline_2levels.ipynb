{
 "cells": [
  {
   "cell_type": "code",
   "execution_count": 1,
   "metadata": {
    "ExecuteTime": {
     "end_time": "2019-03-22T09:31:46.909460Z",
     "start_time": "2019-03-22T09:31:46.521663Z"
    }
   },
   "outputs": [],
   "source": [
    "import pandas as pd\n",
    "import numpy as np\n",
    "import os\n",
    "from export_modules import *"
   ]
  },
  {
   "cell_type": "code",
   "execution_count": 2,
   "metadata": {
    "ExecuteTime": {
     "end_time": "2019-03-22T09:31:46.980757Z",
     "start_time": "2019-03-22T09:31:46.974317Z"
    }
   },
   "outputs": [],
   "source": [
    "project_path = os.getcwd()\n",
    "data_path = project_path + \"/project_6/data/\""
   ]
  },
  {
   "cell_type": "markdown",
   "metadata": {
    "ExecuteTime": {
     "end_time": "2019-03-18T16:11:44.672169Z",
     "start_time": "2019-03-18T16:11:44.667403Z"
    }
   },
   "source": [
    "# Split 70/20/10"
   ]
  },
  {
   "cell_type": "code",
   "execution_count": 10,
   "metadata": {
    "ExecuteTime": {
     "end_time": "2019-03-22T09:35:53.562731Z",
     "start_time": "2019-03-22T09:35:44.303747Z"
    }
   },
   "outputs": [
    {
     "data": {
      "text/html": [
       "<div>\n",
       "<style scoped>\n",
       "    .dataframe tbody tr th:only-of-type {\n",
       "        vertical-align: middle;\n",
       "    }\n",
       "\n",
       "    .dataframe tbody tr th {\n",
       "        vertical-align: top;\n",
       "    }\n",
       "\n",
       "    .dataframe thead th {\n",
       "        text-align: right;\n",
       "    }\n",
       "</style>\n",
       "<table border=\"1\" class=\"dataframe\">\n",
       "  <thead>\n",
       "    <tr style=\"text-align: right;\">\n",
       "      <th></th>\n",
       "      <th>element_uid</th>\n",
       "      <th>user_uid</th>\n",
       "      <th>consumption_mode</th>\n",
       "      <th>transaction_ts</th>\n",
       "      <th>watched_time</th>\n",
       "      <th>rating</th>\n",
       "      <th>rating_ts</th>\n",
       "      <th>bookmark_ts</th>\n",
       "      <th>duration</th>\n",
       "      <th>type</th>\n",
       "      <th>is_relevant</th>\n",
       "      <th>75%</th>\n",
       "    </tr>\n",
       "  </thead>\n",
       "  <tbody>\n",
       "    <tr>\n",
       "      <th>0</th>\n",
       "      <td>3336</td>\n",
       "      <td>5177</td>\n",
       "      <td>S</td>\n",
       "      <td>4.430518e+07</td>\n",
       "      <td>70.0</td>\n",
       "      <td>9.0</td>\n",
       "      <td>4.430415e+07</td>\n",
       "      <td>NaN</td>\n",
       "      <td>90</td>\n",
       "      <td>movie</td>\n",
       "      <td>1</td>\n",
       "      <td>100.0</td>\n",
       "    </tr>\n",
       "    <tr>\n",
       "      <th>1</th>\n",
       "      <td>3336</td>\n",
       "      <td>349202</td>\n",
       "      <td>S</td>\n",
       "      <td>4.430503e+07</td>\n",
       "      <td>50.0</td>\n",
       "      <td>NaN</td>\n",
       "      <td>NaN</td>\n",
       "      <td>NaN</td>\n",
       "      <td>90</td>\n",
       "      <td>movie</td>\n",
       "      <td>1</td>\n",
       "      <td>100.0</td>\n",
       "    </tr>\n",
       "  </tbody>\n",
       "</table>\n",
       "</div>"
      ],
      "text/plain": [
       "   element_uid  user_uid consumption_mode  transaction_ts  watched_time  \\\n",
       "0         3336      5177                S    4.430518e+07          70.0   \n",
       "1         3336    349202                S    4.430503e+07          50.0   \n",
       "\n",
       "   rating     rating_ts  bookmark_ts  duration   type  is_relevant    75%  \n",
       "0     9.0  4.430415e+07          NaN        90  movie            1  100.0  \n",
       "1     NaN           NaN          NaN        90  movie            1  100.0  "
      ]
     },
     "execution_count": 10,
     "metadata": {},
     "output_type": "execute_result"
    }
   ],
   "source": [
    "df = pd.read_csv(data_path + \"generated/full_merge.csv\")\n",
    "df.head(2)"
   ]
  },
  {
   "cell_type": "code",
   "execution_count": 11,
   "metadata": {
    "ExecuteTime": {
     "end_time": "2019-03-22T09:35:53.780667Z",
     "start_time": "2019-03-22T09:35:53.647624Z"
    }
   },
   "outputs": [],
   "source": [
    "df = df[[\"element_uid\", \"user_uid\", \"is_relevant\", \"transaction_ts\"]]"
   ]
  },
  {
   "cell_type": "code",
   "execution_count": 12,
   "metadata": {
    "ExecuteTime": {
     "end_time": "2019-03-22T09:35:55.931173Z",
     "start_time": "2019-03-22T09:35:53.834667Z"
    }
   },
   "outputs": [],
   "source": [
    "df.sort_values(\"transaction_ts\", inplace=True)"
   ]
  },
  {
   "cell_type": "code",
   "execution_count": 13,
   "metadata": {
    "ExecuteTime": {
     "end_time": "2019-03-22T09:35:55.991309Z",
     "start_time": "2019-03-22T09:35:55.986867Z"
    }
   },
   "outputs": [],
   "source": [
    "test_val = df.iloc[-(round(df.shape[0] * 0.3)) : , :]"
   ]
  },
  {
   "cell_type": "code",
   "execution_count": 14,
   "metadata": {
    "ExecuteTime": {
     "end_time": "2019-03-22T09:35:56.056234Z",
     "start_time": "2019-03-22T09:35:56.045899Z"
    }
   },
   "outputs": [
    {
     "data": {
      "text/html": [
       "<div>\n",
       "<style scoped>\n",
       "    .dataframe tbody tr th:only-of-type {\n",
       "        vertical-align: middle;\n",
       "    }\n",
       "\n",
       "    .dataframe tbody tr th {\n",
       "        vertical-align: top;\n",
       "    }\n",
       "\n",
       "    .dataframe thead th {\n",
       "        text-align: right;\n",
       "    }\n",
       "</style>\n",
       "<table border=\"1\" class=\"dataframe\">\n",
       "  <thead>\n",
       "    <tr style=\"text-align: right;\">\n",
       "      <th></th>\n",
       "      <th>element_uid</th>\n",
       "      <th>user_uid</th>\n",
       "      <th>is_relevant</th>\n",
       "      <th>transaction_ts</th>\n",
       "    </tr>\n",
       "  </thead>\n",
       "  <tbody>\n",
       "    <tr>\n",
       "      <th>5478686</th>\n",
       "      <td>6976</td>\n",
       "      <td>86207</td>\n",
       "      <td>1</td>\n",
       "      <td>4.360350e+07</td>\n",
       "    </tr>\n",
       "    <tr>\n",
       "      <th>8337028</th>\n",
       "      <td>3273</td>\n",
       "      <td>468831</td>\n",
       "      <td>1</td>\n",
       "      <td>4.360350e+07</td>\n",
       "    </tr>\n",
       "    <tr>\n",
       "      <th>9306125</th>\n",
       "      <td>9316</td>\n",
       "      <td>205487</td>\n",
       "      <td>1</td>\n",
       "      <td>4.360350e+07</td>\n",
       "    </tr>\n",
       "    <tr>\n",
       "      <th>3410620</th>\n",
       "      <td>2030</td>\n",
       "      <td>32486</td>\n",
       "      <td>1</td>\n",
       "      <td>4.360350e+07</td>\n",
       "    </tr>\n",
       "    <tr>\n",
       "      <th>881620</th>\n",
       "      <td>9817</td>\n",
       "      <td>87570</td>\n",
       "      <td>0</td>\n",
       "      <td>4.360350e+07</td>\n",
       "    </tr>\n",
       "  </tbody>\n",
       "</table>\n",
       "</div>"
      ],
      "text/plain": [
       "         element_uid  user_uid  is_relevant  transaction_ts\n",
       "5478686         6976     86207            1    4.360350e+07\n",
       "8337028         3273    468831            1    4.360350e+07\n",
       "9306125         9316    205487            1    4.360350e+07\n",
       "3410620         2030     32486            1    4.360350e+07\n",
       "881620          9817     87570            0    4.360350e+07"
      ]
     },
     "execution_count": 14,
     "metadata": {},
     "output_type": "execute_result"
    }
   ],
   "source": [
    "test_val.head()"
   ]
  },
  {
   "cell_type": "code",
   "execution_count": 15,
   "metadata": {
    "ExecuteTime": {
     "end_time": "2019-03-22T09:35:56.119300Z",
     "start_time": "2019-03-22T09:35:56.115981Z"
    }
   },
   "outputs": [],
   "source": [
    "validation = test_val.iloc[:round(test_val.shape[0]*0.2) , :]"
   ]
  },
  {
   "cell_type": "code",
   "execution_count": 16,
   "metadata": {
    "ExecuteTime": {
     "end_time": "2019-03-22T09:35:56.194843Z",
     "start_time": "2019-03-22T09:35:56.190479Z"
    }
   },
   "outputs": [],
   "source": [
    "test = test_val.iloc[round(test_val.shape[0]*0.2) : , :]"
   ]
  },
  {
   "cell_type": "code",
   "execution_count": 17,
   "metadata": {
    "ExecuteTime": {
     "end_time": "2019-03-22T09:35:56.288888Z",
     "start_time": "2019-03-22T09:35:56.281197Z"
    }
   },
   "outputs": [],
   "source": [
    "train = df.iloc[:(round(df.shape[0] * 0.7)) , :]"
   ]
  },
  {
   "cell_type": "code",
   "execution_count": 18,
   "metadata": {
    "ExecuteTime": {
     "end_time": "2019-03-22T09:35:56.386995Z",
     "start_time": "2019-03-22T09:35:56.380983Z"
    }
   },
   "outputs": [
    {
     "data": {
      "text/plain": [
       "10403324"
      ]
     },
     "execution_count": 18,
     "metadata": {},
     "output_type": "execute_result"
    }
   ],
   "source": [
    "validation.shape[0] + test.shape[0] + train.shape[0]"
   ]
  },
  {
   "cell_type": "code",
   "execution_count": 19,
   "metadata": {
    "ExecuteTime": {
     "end_time": "2019-03-22T09:35:56.592864Z",
     "start_time": "2019-03-22T09:35:56.506847Z"
    }
   },
   "outputs": [],
   "source": [
    "train[\"impl\"] = 1\n",
    "test[\"impl\"] = 1\n",
    "validation[\"impl\"] = 1"
   ]
  },
  {
   "cell_type": "code",
   "execution_count": 22,
   "metadata": {
    "ExecuteTime": {
     "end_time": "2019-03-22T09:36:10.429714Z",
     "start_time": "2019-03-22T09:36:10.409061Z"
    }
   },
   "outputs": [
    {
     "data": {
      "text/html": [
       "<div>\n",
       "<style scoped>\n",
       "    .dataframe tbody tr th:only-of-type {\n",
       "        vertical-align: middle;\n",
       "    }\n",
       "\n",
       "    .dataframe tbody tr th {\n",
       "        vertical-align: top;\n",
       "    }\n",
       "\n",
       "    .dataframe thead th {\n",
       "        text-align: right;\n",
       "    }\n",
       "</style>\n",
       "<table border=\"1\" class=\"dataframe\">\n",
       "  <thead>\n",
       "    <tr style=\"text-align: right;\">\n",
       "      <th></th>\n",
       "      <th>element_uid</th>\n",
       "      <th>user_uid</th>\n",
       "      <th>is_relevant</th>\n",
       "      <th>transaction_ts</th>\n",
       "      <th>impl</th>\n",
       "    </tr>\n",
       "  </thead>\n",
       "  <tbody>\n",
       "    <tr>\n",
       "      <th>5478686</th>\n",
       "      <td>6976</td>\n",
       "      <td>86207</td>\n",
       "      <td>1</td>\n",
       "      <td>4.360350e+07</td>\n",
       "      <td>1</td>\n",
       "    </tr>\n",
       "    <tr>\n",
       "      <th>8337028</th>\n",
       "      <td>3273</td>\n",
       "      <td>468831</td>\n",
       "      <td>1</td>\n",
       "      <td>4.360350e+07</td>\n",
       "      <td>1</td>\n",
       "    </tr>\n",
       "    <tr>\n",
       "      <th>9306125</th>\n",
       "      <td>9316</td>\n",
       "      <td>205487</td>\n",
       "      <td>1</td>\n",
       "      <td>4.360350e+07</td>\n",
       "      <td>1</td>\n",
       "    </tr>\n",
       "    <tr>\n",
       "      <th>3410620</th>\n",
       "      <td>2030</td>\n",
       "      <td>32486</td>\n",
       "      <td>1</td>\n",
       "      <td>4.360350e+07</td>\n",
       "      <td>1</td>\n",
       "    </tr>\n",
       "    <tr>\n",
       "      <th>881620</th>\n",
       "      <td>9817</td>\n",
       "      <td>87570</td>\n",
       "      <td>0</td>\n",
       "      <td>4.360350e+07</td>\n",
       "      <td>1</td>\n",
       "    </tr>\n",
       "  </tbody>\n",
       "</table>\n",
       "</div>"
      ],
      "text/plain": [
       "         element_uid  user_uid  is_relevant  transaction_ts  impl\n",
       "5478686         6976     86207            1    4.360350e+07     1\n",
       "8337028         3273    468831            1    4.360350e+07     1\n",
       "9306125         9316    205487            1    4.360350e+07     1\n",
       "3410620         2030     32486            1    4.360350e+07     1\n",
       "881620          9817     87570            0    4.360350e+07     1"
      ]
     },
     "execution_count": 22,
     "metadata": {},
     "output_type": "execute_result"
    }
   ],
   "source": [
    "validation.head()"
   ]
  },
  {
   "cell_type": "code",
   "execution_count": 26,
   "metadata": {
    "ExecuteTime": {
     "end_time": "2019-03-22T09:46:07.415473Z",
     "start_time": "2019-03-22T09:45:08.320139Z"
    }
   },
   "outputs": [],
   "source": [
    "train[[\"user_uid\", \"element_uid\", \"impl\", \"is_relevant\", \"transaction_ts\"]].to_csv(data_path + \"implicit/all_datasets/70_20_10/train.csv\", header=False, index=False)\n",
    "validation[[\"user_uid\", \"element_uid\", \"impl\", \"is_relevant\", \"transaction_ts\"]].to_csv(data_path + \"implicit/all_datasets/70_20_10/validation.csv\", header=False, index=False)\n",
    "test[[\"user_uid\", \"element_uid\", \"impl\", \"is_relevant\", \"transaction_ts\"]].to_csv(data_path + \"implicit/all_datasets/70_20_10/test.csv\", header=False, index=False)"
   ]
  },
  {
   "cell_type": "markdown",
   "metadata": {},
   "source": [
    "# Train Matrix Factorization"
   ]
  },
  {
   "cell_type": "code",
   "execution_count": null,
   "metadata": {},
   "outputs": [],
   "source": []
  }
 ],
 "metadata": {
  "kernelspec": {
   "display_name": "rekko",
   "language": "python",
   "name": "rekko"
  },
  "language_info": {
   "codemirror_mode": {
    "name": "ipython",
    "version": 3
   },
   "file_extension": ".py",
   "mimetype": "text/x-python",
   "name": "python",
   "nbconvert_exporter": "python",
   "pygments_lexer": "ipython3",
   "version": "3.7.1"
  },
  "toc": {
   "base_numbering": 1,
   "nav_menu": {},
   "number_sections": true,
   "sideBar": true,
   "skip_h1_title": false,
   "title_cell": "Table of Contents",
   "title_sidebar": "Contents",
   "toc_cell": false,
   "toc_position": {},
   "toc_section_display": true,
   "toc_window_display": true
  },
  "varInspector": {
   "cols": {
    "lenName": 16,
    "lenType": 16,
    "lenVar": 40
   },
   "kernels_config": {
    "python": {
     "delete_cmd_postfix": "",
     "delete_cmd_prefix": "del ",
     "library": "var_list.py",
     "varRefreshCmd": "print(var_dic_list())"
    },
    "r": {
     "delete_cmd_postfix": ") ",
     "delete_cmd_prefix": "rm(",
     "library": "var_list.r",
     "varRefreshCmd": "cat(var_dic_list()) "
    }
   },
   "types_to_exclude": [
    "module",
    "function",
    "builtin_function_or_method",
    "instance",
    "_Feature"
   ],
   "window_display": true
  }
 },
 "nbformat": 4,
 "nbformat_minor": 2
}
