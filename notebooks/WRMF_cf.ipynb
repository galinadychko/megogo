{
 "cells": [
  {
   "cell_type": "code",
   "execution_count": 1,
   "metadata": {
    "ExecuteTime": {
     "end_time": "2019-03-22T13:48:21.156005Z",
     "start_time": "2019-03-22T13:48:20.567525Z"
    }
   },
   "outputs": [],
   "source": [
    "from export_modules import *\n",
    "from modules.wrmf.WRMF import *\n",
    "from tqdm.auto import tqdm\n",
    "%load_ext Cython"
   ]
  },
  {
   "cell_type": "markdown",
   "metadata": {},
   "source": [
    "# Metrics"
   ]
  },
  {
   "cell_type": "code",
   "execution_count": 2,
   "metadata": {
    "ExecuteTime": {
     "end_time": "2019-03-22T13:48:21.217012Z",
     "start_time": "2019-03-22T13:48:21.208305Z"
    },
    "code_folding": [
     0
    ],
    "run_control": {
     "marked": false
    }
   },
   "outputs": [],
   "source": [
    "%%cython\n",
    "\n",
    "def average_precision(\n",
    "        dict data_true,\n",
    "        dict data_predicted,\n",
    "        const unsigned long int k\n",
    ") -> float:\n",
    "    cdef:\n",
    "        unsigned long int n_items_predicted\n",
    "        unsigned long int n_items_true\n",
    "        unsigned long int n_correct_items\n",
    "        unsigned long int item_idx\n",
    "\n",
    "        double average_precision_sum\n",
    "        double precision\n",
    "\n",
    "        set items_true\n",
    "        list items_predicted\n",
    "\n",
    "    if not data_true:\n",
    "        raise ValueError('data_true is empty')\n",
    "\n",
    "    average_precision_sum = 0.0\n",
    "\n",
    "    for key, items_true in data_true.items():\n",
    "        items_predicted = data_predicted.get(key, [])\n",
    "\n",
    "        n_items_true = len(items_true)\n",
    "        n_items_predicted = min(len(items_predicted), k)\n",
    "\n",
    "        if n_items_true == 0 or n_items_predicted == 0:\n",
    "            continue\n",
    "\n",
    "        n_correct_items = 0\n",
    "        precision = 0.0\n",
    "\n",
    "        for item_idx in range(n_items_predicted):\n",
    "            if items_predicted[item_idx] in items_true:\n",
    "                n_correct_items += 1\n",
    "                precision += <double>n_correct_items / <double>(item_idx + 1)\n",
    "\n",
    "        average_precision_sum += <double>precision / <double>min(n_items_true, k)\n",
    "\n",
    "    return average_precision_sum / <double>len(data_true)\n",
    "\n",
    "def metric(true_data, predicted_data, k=20):\n",
    "    true_data_set = {k: set(v) for k, v in true_data.items()}\n",
    "\n",
    "    return average_precision(true_data_set, predicted_data, k=k)"
   ]
  },
  {
   "cell_type": "markdown",
   "metadata": {},
   "source": [
    "# WRMF validation functions"
   ]
  },
  {
   "cell_type": "code",
   "execution_count": 3,
   "metadata": {
    "ExecuteTime": {
     "end_time": "2019-03-22T13:48:21.478347Z",
     "start_time": "2019-03-22T13:48:21.468429Z"
    },
    "code_folding": [
     0
    ]
   },
   "outputs": [],
   "source": [
    "def WRMF(mymedialite_folder, train_path, \n",
    "         validation_path, prediction_path, cache_folder, \n",
    "         k=20, random_seed=42, \n",
    "         parameters=dict(num_factors=20, regularization=0.015, alpha=1, num_iter=15)):\n",
    "    print(\"WRMF work starts\")\n",
    "    num_factors, regularization, alpha, num_iter=parameters[\"num_factors\"], parameters[\"regularization\"], parameters[\"alpha\"], parameters[\"num_iter\"]\n",
    "    wrmf = ImplicitRecommendation(path_to_mymedialite=mymedialite_folder,\n",
    "                                  train_path=train_path,\n",
    "                                  cache_folder=cache_folder, \n",
    "                                  random_seed=random_seed)\n",
    "    print(\"Train WRMF\")\n",
    "    wrmf.train(recommender=\"WRMF\", k=k, \n",
    "               num_factors=num_factors, \n",
    "               regularization=regularization, alpha=alpha, num_iter=num_iter)\n",
    "    print(\"Predict by WRMF\")\n",
    "    df = wrmf.predict(test_path=validation_path, \n",
    "                      save_results=prediction_path, k=k)\n",
    "    del df"
   ]
  },
  {
   "cell_type": "code",
   "execution_count": 4,
   "metadata": {
    "ExecuteTime": {
     "end_time": "2019-03-22T13:48:21.861423Z",
     "start_time": "2019-03-22T13:48:21.856899Z"
    },
    "code_folding": [
     0
    ]
   },
   "outputs": [],
   "source": [
    "def to_set(df):\n",
    "    dict_val_rel={}\n",
    "    for user in tqdm(df.user.unique()):\n",
    "        dict_val_rel[user] = set(df.loc[df.user == user, \"item\"])\n",
    "    return dict_val_rel"
   ]
  },
  {
   "cell_type": "code",
   "execution_count": 5,
   "metadata": {
    "ExecuteTime": {
     "end_time": "2019-03-22T13:48:22.320835Z",
     "start_time": "2019-03-22T13:48:22.316489Z"
    },
    "code_folding": [
     0
    ],
    "run_control": {
     "marked": false
    }
   },
   "outputs": [],
   "source": [
    "def to_list(df):\n",
    "    dict_pred={}\n",
    "    for user in tqdm(df.user.unique()):\n",
    "        dict_pred[user] = list(df.loc[df.user == user, \"item\"].astype(\"int\"))\n",
    "    return dict_pred"
   ]
  },
  {
   "cell_type": "code",
   "execution_count": 6,
   "metadata": {
    "ExecuteTime": {
     "end_time": "2019-03-22T13:48:22.756991Z",
     "start_time": "2019-03-22T13:48:22.749568Z"
    },
    "code_folding": [
     0
    ]
   },
   "outputs": [],
   "source": [
    "def validation(validation_path, prediction_path, k,\n",
    "               names=[\"user\", \"item\",\"is_relevant\", \"impl\", \"time\"]):\n",
    "    val = pd.read_csv(validation_path, names=names)\n",
    "    val_rel = val[val.is_relevant.astype(\"bool\")]\n",
    "    unique_from_val = val_rel.user.unique()\n",
    "    \n",
    "    print(\"Test converting\")\n",
    "    dict_val_rel = to_set(val_rel)\n",
    "    del val_rel\n",
    "    \n",
    "    print(\"Prediction converting\")\n",
    "    pred = pd.read_csv(prediction_path)\n",
    "    pred = pred[pred.user.isin(unique_from_val)]\n",
    "    dict_pred = to_list(pred)\n",
    "    del pred\n",
    "    \n",
    "    return average_precision(dict_val_rel, dict_pred, k)"
   ]
  },
  {
   "cell_type": "markdown",
   "metadata": {},
   "source": [
    "# Pathes"
   ]
  },
  {
   "cell_type": "code",
   "execution_count": 7,
   "metadata": {
    "ExecuteTime": {
     "end_time": "2019-03-22T13:48:26.092267Z",
     "start_time": "2019-03-22T13:48:26.085325Z"
    }
   },
   "outputs": [],
   "source": [
    "data_path = os.getcwd() \n",
    "data_path += \"/project_6/data/implicit/\""
   ]
  },
  {
   "cell_type": "code",
   "execution_count": 8,
   "metadata": {
    "ExecuteTime": {
     "end_time": "2019-03-22T13:48:26.769511Z",
     "start_time": "2019-03-22T13:48:26.761592Z"
    }
   },
   "outputs": [],
   "source": [
    "mymedialite_folder = \"/home/administrator/libraries/MyMediaLite\"\n",
    "\n",
    "train_path = data_path + \"all_datasets/96_2_2mixcol/train.csv\"\n",
    "validation_path = data_path + \"all_datasets/96_2_2mixcol/validation.csv\"\n",
    "test_path = data_path + \"all_datasets/96_2_2mixcol/test.csv\"\n",
    "\n",
    "path_v=\"/home/administrator/workplace/work/project_6/data/prediction/96_2_2mixcol_validation.csv\"\n",
    "path_t=\"/home/administrator/workplace/work/project_6/data/prediction/96_2_2mixcol_test.csv\"\n",
    "\n",
    "cache_folder=\"/home/administrator/workplace/work/project_6\"+\"/cache\""
   ]
  },
  {
   "cell_type": "markdown",
   "metadata": {},
   "source": [
    "# 96/2/2"
   ]
  },
  {
   "cell_type": "markdown",
   "metadata": {},
   "source": [
    "## Validation part"
   ]
  },
  {
   "cell_type": "code",
   "execution_count": 9,
   "metadata": {
    "ExecuteTime": {
     "end_time": "2019-03-22T14:01:45.662448Z",
     "start_time": "2019-03-22T13:48:41.151142Z"
    },
    "code_folding": [
     0
    ],
    "run_control": {
     "marked": false
    }
   },
   "outputs": [
    {
     "name": "stdout",
     "output_type": "stream",
     "text": [
      "WRMF work starts\n",
      "Train WRMF\n",
      "Predict by WRMF\n"
     ]
    }
   ],
   "source": [
    "WRMF(mymedialite_folder=mymedialite_folder, \n",
    "     train_path=train_path, \n",
    "     validation_path=validation_path, \n",
    "     prediction_path=path_v, \n",
    "     cache_folder=cache_folder,\n",
    "     k=20, random_seed=42, \n",
    "     parameters=dict(num_factors=10, regularization=0.015, alpha=1, num_iter=15))"
   ]
  },
  {
   "cell_type": "code",
   "execution_count": 10,
   "metadata": {
    "ExecuteTime": {
     "end_time": "2019-03-22T14:03:52.235441Z",
     "start_time": "2019-03-22T14:01:50.428311Z"
    },
    "code_folding": [
     0
    ],
    "collapsed": true,
    "run_control": {
     "marked": false
    }
   },
   "outputs": [
    {
     "name": "stdout",
     "output_type": "stream",
     "text": [
      "Test converting\n"
     ]
    },
    {
     "data": {
      "application/vnd.jupyter.widget-view+json": {
       "model_id": "e0bdd6cf5acf4cdf89ed93db1285b7ab",
       "version_major": 2,
       "version_minor": 0
      },
      "text/plain": [
       "HBox(children=(IntProgress(value=0, max=62666), HTML(value='')))"
      ]
     },
     "metadata": {},
     "output_type": "display_data"
    },
    {
     "name": "stdout",
     "output_type": "stream",
     "text": [
      "\n",
      "Prediction converting\n"
     ]
    },
    {
     "data": {
      "application/vnd.jupyter.widget-view+json": {
       "model_id": "e725e753dbf143c3add86c88996d3059",
       "version_major": 2,
       "version_minor": 0
      },
      "text/plain": [
       "HBox(children=(IntProgress(value=0, max=58919), HTML(value='')))"
      ]
     },
     "metadata": {},
     "output_type": "display_data"
    },
    {
     "name": "stdout",
     "output_type": "stream",
     "text": [
      "\n"
     ]
    }
   ],
   "source": [
    "val_val96=validation(validation_path, path_v, 20, \n",
    "                     names=[\"user\", \"item\",\"is_relevant\", \"impl\", \"time\"])"
   ]
  },
  {
   "cell_type": "code",
   "execution_count": 11,
   "metadata": {
    "ExecuteTime": {
     "end_time": "2019-03-22T14:04:36.370910Z",
     "start_time": "2019-03-22T14:04:36.324672Z"
    }
   },
   "outputs": [
    {
     "data": {
      "text/plain": [
       "0.02793314639531309"
      ]
     },
     "execution_count": 11,
     "metadata": {},
     "output_type": "execute_result"
    }
   ],
   "source": [
    "# default\n",
    "val_val96"
   ]
  },
  {
   "cell_type": "code",
   "execution_count": 12,
   "metadata": {
    "ExecuteTime": {
     "end_time": "2019-03-22T14:50:50.944053Z",
     "start_time": "2019-03-22T14:05:47.222714Z"
    },
    "code_folding": [
     0
    ],
    "run_control": {
     "marked": false
    }
   },
   "outputs": [
    {
     "name": "stdout",
     "output_type": "stream",
     "text": [
      "WRMF work starts\n",
      "Train WRMF\n",
      "Predict by WRMF\n"
     ]
    }
   ],
   "source": [
    "WRMF(mymedialite_folder=mymedialite_folder, \n",
    "     train_path=train_path, \n",
    "     validation_path=validation_path, \n",
    "     prediction_path=path_v, \n",
    "     cache_folder=cache_folder,\n",
    "     k=20, random_seed=42, \n",
    "     parameters=dict(num_factors=15, regularization=0.015, alpha=1, num_iter=30))"
   ]
  },
  {
   "cell_type": "code",
   "execution_count": 13,
   "metadata": {
    "ExecuteTime": {
     "end_time": "2019-03-22T14:54:44.879807Z",
     "start_time": "2019-03-22T14:52:45.411017Z"
    },
    "code_folding": [
     0
    ],
    "collapsed": true
   },
   "outputs": [
    {
     "name": "stdout",
     "output_type": "stream",
     "text": [
      "Test converting\n"
     ]
    },
    {
     "data": {
      "application/vnd.jupyter.widget-view+json": {
       "model_id": "32498541e7214c7087a627f5d8df96b7",
       "version_major": 2,
       "version_minor": 0
      },
      "text/plain": [
       "HBox(children=(IntProgress(value=0, max=62666), HTML(value='')))"
      ]
     },
     "metadata": {},
     "output_type": "display_data"
    },
    {
     "name": "stdout",
     "output_type": "stream",
     "text": [
      "\n",
      "Prediction converting\n"
     ]
    },
    {
     "data": {
      "application/vnd.jupyter.widget-view+json": {
       "model_id": "520026009e924c9ba9decbfff165e9c3",
       "version_major": 2,
       "version_minor": 0
      },
      "text/plain": [
       "HBox(children=(IntProgress(value=0, max=58919), HTML(value='')))"
      ]
     },
     "metadata": {},
     "output_type": "display_data"
    },
    {
     "name": "stdout",
     "output_type": "stream",
     "text": [
      "\n"
     ]
    }
   ],
   "source": [
    "val_val96=validation(validation_path, path_v, 20, \n",
    "                     names=[\"user\", \"item\",\"is_relevant\", \"impl\", \"time\"])"
   ]
  },
  {
   "cell_type": "code",
   "execution_count": 14,
   "metadata": {
    "ExecuteTime": {
     "end_time": "2019-03-22T14:55:05.570886Z",
     "start_time": "2019-03-22T14:55:05.557785Z"
    }
   },
   "outputs": [
    {
     "data": {
      "text/plain": [
       "0.028713996742539598"
      ]
     },
     "execution_count": 14,
     "metadata": {},
     "output_type": "execute_result"
    }
   ],
   "source": [
    "# num_factors=15, regularization=0.015, alpha=1, num_iter=30\n",
    "val_val96"
   ]
  },
  {
   "cell_type": "code",
   "execution_count": 16,
   "metadata": {
    "ExecuteTime": {
     "end_time": "2019-03-22T15:37:05.181832Z",
     "start_time": "2019-03-22T15:01:23.874369Z"
    },
    "code_folding": [
     0
    ]
   },
   "outputs": [
    {
     "name": "stdout",
     "output_type": "stream",
     "text": [
      "WRMF work starts\n",
      "Train WRMF\n",
      "Predict by WRMF\n"
     ]
    }
   ],
   "source": [
    "WRMF(mymedialite_folder=mymedialite_folder, \n",
    "     train_path=train_path, \n",
    "     validation_path=validation_path, \n",
    "     prediction_path=path_v, \n",
    "     cache_folder=cache_folder,\n",
    "     k=20, random_seed=42, \n",
    "     parameters=dict(num_factors=15, regularization=0.015, alpha=5, num_iter=35))"
   ]
  },
  {
   "cell_type": "code",
   "execution_count": 17,
   "metadata": {
    "ExecuteTime": {
     "end_time": "2019-03-22T15:42:57.628398Z",
     "start_time": "2019-03-22T15:40:56.216210Z"
    },
    "collapsed": true
   },
   "outputs": [
    {
     "name": "stdout",
     "output_type": "stream",
     "text": [
      "Test converting\n"
     ]
    },
    {
     "data": {
      "application/vnd.jupyter.widget-view+json": {
       "model_id": "1177fef5555a419f8f43ba2f2cf8dee9",
       "version_major": 2,
       "version_minor": 0
      },
      "text/plain": [
       "HBox(children=(IntProgress(value=0, max=62666), HTML(value='')))"
      ]
     },
     "metadata": {},
     "output_type": "display_data"
    },
    {
     "name": "stdout",
     "output_type": "stream",
     "text": [
      "\n",
      "Prediction converting\n"
     ]
    },
    {
     "data": {
      "application/vnd.jupyter.widget-view+json": {
       "model_id": "064deff5c38043368de3c6559d7eaa77",
       "version_major": 2,
       "version_minor": 0
      },
      "text/plain": [
       "HBox(children=(IntProgress(value=0, max=58919), HTML(value='')))"
      ]
     },
     "metadata": {},
     "output_type": "display_data"
    },
    {
     "name": "stdout",
     "output_type": "stream",
     "text": [
      "\n"
     ]
    }
   ],
   "source": [
    "val_val96=validation(validation_path, path_v, 20, \n",
    "                     names=[\"user\", \"item\",\"is_relevant\", \"impl\", \"time\"])"
   ]
  },
  {
   "cell_type": "code",
   "execution_count": 18,
   "metadata": {
    "ExecuteTime": {
     "end_time": "2019-03-22T15:43:04.226710Z",
     "start_time": "2019-03-22T15:43:04.204492Z"
    }
   },
   "outputs": [
    {
     "data": {
      "text/plain": [
       "0.03091348402082651"
      ]
     },
     "execution_count": 18,
     "metadata": {},
     "output_type": "execute_result"
    }
   ],
   "source": [
    "# num_factors=15, regularization=0.015, alpha=5, num_iter=35\n",
    "val_val96"
   ]
  },
  {
   "cell_type": "code",
   "execution_count": 19,
   "metadata": {
    "ExecuteTime": {
     "end_time": "2019-03-22T16:43:32.822881Z",
     "start_time": "2019-03-22T15:45:44.722397Z"
    },
    "code_folding": [
     0
    ]
   },
   "outputs": [
    {
     "name": "stdout",
     "output_type": "stream",
     "text": [
      "WRMF work starts\n",
      "Train WRMF\n",
      "Predict by WRMF\n"
     ]
    }
   ],
   "source": [
    "WRMF(mymedialite_folder=mymedialite_folder, \n",
    "     train_path=train_path, \n",
    "     validation_path=validation_path, \n",
    "     prediction_path=path_v, \n",
    "     cache_folder=cache_folder,\n",
    "     k=20, random_seed=42, \n",
    "     parameters=dict(num_factors=20, regularization=0.015, alpha=10, num_iter=35))"
   ]
  },
  {
   "cell_type": "code",
   "execution_count": 20,
   "metadata": {
    "ExecuteTime": {
     "end_time": "2019-03-22T17:06:38.627145Z",
     "start_time": "2019-03-22T17:04:44.558177Z"
    },
    "collapsed": true
   },
   "outputs": [
    {
     "name": "stdout",
     "output_type": "stream",
     "text": [
      "Test converting\n"
     ]
    },
    {
     "data": {
      "application/vnd.jupyter.widget-view+json": {
       "model_id": "9a044a04009a4bb69131db289f19e0d7",
       "version_major": 2,
       "version_minor": 0
      },
      "text/plain": [
       "HBox(children=(IntProgress(value=0, max=62666), HTML(value='')))"
      ]
     },
     "metadata": {},
     "output_type": "display_data"
    },
    {
     "name": "stdout",
     "output_type": "stream",
     "text": [
      "\n",
      "Prediction converting\n"
     ]
    },
    {
     "data": {
      "application/vnd.jupyter.widget-view+json": {
       "model_id": "23cd54da94264f468b871fc5ce7d5732",
       "version_major": 2,
       "version_minor": 0
      },
      "text/plain": [
       "HBox(children=(IntProgress(value=0, max=58919), HTML(value='')))"
      ]
     },
     "metadata": {},
     "output_type": "display_data"
    },
    {
     "name": "stdout",
     "output_type": "stream",
     "text": [
      "\n"
     ]
    }
   ],
   "source": [
    "val_val96=validation(validation_path, path_v, 20, \n",
    "                     names=[\"user\", \"item\",\"is_relevant\", \"impl\", \"time\"])"
   ]
  },
  {
   "cell_type": "code",
   "execution_count": 21,
   "metadata": {
    "ExecuteTime": {
     "end_time": "2019-03-22T17:06:42.713575Z",
     "start_time": "2019-03-22T17:06:42.703207Z"
    }
   },
   "outputs": [
    {
     "data": {
      "text/plain": [
       "0.031164385398249835"
      ]
     },
     "execution_count": 21,
     "metadata": {},
     "output_type": "execute_result"
    }
   ],
   "source": [
    "# num_factors=20, regularization=0.015, alpha=10, num_iter=35\n",
    "val_val96"
   ]
  },
  {
   "cell_type": "markdown",
   "metadata": {},
   "source": [
    "## Test part"
   ]
  },
  {
   "cell_type": "code",
   "execution_count": 22,
   "metadata": {
    "ExecuteTime": {
     "end_time": "2019-03-22T18:22:28.094502Z",
     "start_time": "2019-03-22T17:09:26.998717Z"
    }
   },
   "outputs": [
    {
     "name": "stdout",
     "output_type": "stream",
     "text": [
      "WRMF work starts\n",
      "Train WRMF\n",
      "Predict by WRMF\n"
     ]
    }
   ],
   "source": [
    "WRMF(mymedialite_folder=mymedialite_folder, \n",
    "     train_path=\"/home/administrator/workplace/work/rekko/data/implicit/all_datasets/96_2_2/train_val.csv\", \n",
    "     validation_path=test_path, \n",
    "     prediction_path=path_t, \n",
    "     cache_folder=cache_folder,\n",
    "     k=20, random_seed=42, \n",
    "     parameters=dict(num_factors=20, regularization=0.015, alpha=10, num_iter=35))"
   ]
  },
  {
   "cell_type": "code",
   "execution_count": 25,
   "metadata": {
    "ExecuteTime": {
     "end_time": "2019-03-22T18:31:10.231228Z",
     "start_time": "2019-03-22T18:29:20.794167Z"
    },
    "collapsed": true
   },
   "outputs": [
    {
     "name": "stdout",
     "output_type": "stream",
     "text": [
      "Test converting\n"
     ]
    },
    {
     "data": {
      "application/vnd.jupyter.widget-view+json": {
       "model_id": "ee45061bb68748c8bf6655512ee1379e",
       "version_major": 2,
       "version_minor": 0
      },
      "text/plain": [
       "HBox(children=(IntProgress(value=0, max=58391), HTML(value='')))"
      ]
     },
     "metadata": {},
     "output_type": "display_data"
    },
    {
     "name": "stdout",
     "output_type": "stream",
     "text": [
      "\n",
      "Prediction converting\n"
     ]
    },
    {
     "data": {
      "application/vnd.jupyter.widget-view+json": {
       "model_id": "19d41157de6e4a708fad40423fceda6a",
       "version_major": 2,
       "version_minor": 0
      },
      "text/plain": [
       "HBox(children=(IntProgress(value=0, max=55624), HTML(value='')))"
      ]
     },
     "metadata": {},
     "output_type": "display_data"
    },
    {
     "name": "stdout",
     "output_type": "stream",
     "text": [
      "\n"
     ]
    }
   ],
   "source": [
    "val_val96_t=validation(test_path, path_t, 20, \n",
    "                     names=[\"user\", \"item\",\"is_relevant\", \"impl\", \"time\"])"
   ]
  },
  {
   "cell_type": "code",
   "execution_count": 26,
   "metadata": {
    "ExecuteTime": {
     "end_time": "2019-03-22T18:31:42.508852Z",
     "start_time": "2019-03-22T18:31:42.468559Z"
    }
   },
   "outputs": [
    {
     "data": {
      "text/plain": [
       "0.03092766235540828"
      ]
     },
     "execution_count": 26,
     "metadata": {},
     "output_type": "execute_result"
    }
   ],
   "source": [
    "val_val96_t"
   ]
  },
  {
   "cell_type": "code",
   "execution_count": 27,
   "metadata": {
    "ExecuteTime": {
     "end_time": "2019-03-22T18:32:00.009986Z",
     "start_time": "2019-03-22T18:32:00.001440Z"
    }
   },
   "outputs": [
    {
     "data": {
      "text/plain": [
       "0.03104602387682906"
      ]
     },
     "execution_count": 27,
     "metadata": {},
     "output_type": "execute_result"
    }
   ],
   "source": [
    "(0.031164385398249835 + 0.03092766235540828)/2"
   ]
  },
  {
   "cell_type": "markdown",
   "metadata": {},
   "source": [
    "# Submition"
   ]
  },
  {
   "cell_type": "code",
   "execution_count": 29,
   "metadata": {
    "ExecuteTime": {
     "end_time": "2019-03-22T18:35:34.327939Z",
     "start_time": "2019-03-22T18:35:34.322116Z"
    }
   },
   "outputs": [],
   "source": [
    "test_path=\"/home/administrator/workplace/work/project_6/data/okko/test.csv\"\n",
    "big_train_path=\"/home/administrator/workplace/work/project_6/data/implicit/all_datasets/96_2_2mixcol/all_for_train.csv\"\n",
    "prediction_path=\"/home/administrator/workplace/work/project_6/WRMtest_cf.csv\""
   ]
  },
  {
   "cell_type": "code",
   "execution_count": null,
   "metadata": {
    "ExecuteTime": {
     "start_time": "2019-03-22T18:36:42.171Z"
    }
   },
   "outputs": [
    {
     "name": "stdout",
     "output_type": "stream",
     "text": [
      "WRMF work starts\n",
      "Train WRMF\n"
     ]
    }
   ],
   "source": [
    "WRMF(mymedialite_folder=mymedialite_folder, \n",
    "     train_path=big_train_path, \n",
    "     validation_path=test_path, \n",
    "     prediction_path=prediction_path, \n",
    "     cache_folder=cache_folder,\n",
    "     k=20, random_seed=42, \n",
    "     parameters=dict(num_factors=20, regularization=0.015, alpha=10, num_iter=35))"
   ]
  },
  {
   "cell_type": "code",
   "execution_count": null,
   "metadata": {},
   "outputs": [],
   "source": [
    "prediction = pd.read_csv(\"/home/administrator/workplace/work/project_6/WRMtest.csv\", names=[\"user\", \"item\", \"score\"])\n",
    "prediction.head()"
   ]
  },
  {
   "cell_type": "code",
   "execution_count": null,
   "metadata": {},
   "outputs": [],
   "source": []
  },
  {
   "cell_type": "code",
   "execution_count": null,
   "metadata": {},
   "outputs": [],
   "source": []
  },
  {
   "cell_type": "code",
   "execution_count": null,
   "metadata": {},
   "outputs": [],
   "source": []
  },
  {
   "cell_type": "markdown",
   "metadata": {},
   "source": [
    "### Impl"
   ]
  },
  {
   "cell_type": "code",
   "execution_count": 26,
   "metadata": {
    "ExecuteTime": {
     "end_time": "2019-03-22T12:20:55.137606Z",
     "start_time": "2019-03-22T12:20:55.119403Z"
    }
   },
   "outputs": [],
   "source": [
    "mymedialite_folder = \"/home/administrator/libraries/MyMediaLite\"\n",
    "\n",
    "train_path = data_path + \"all_datasets/96_2_2/train.csv\"\n",
    "validation_path = data_path + \"all_datasets/96_2_2/validation.csv\"\n",
    "test_path = data_path + \"all_datasets/96_2_2/test.csv\"\n",
    "\n",
    "path_v=\"/home/administrator/workplace/work/project_6/data/prediction/96_2_2_validation.csv\"\n",
    "path_t=\"/home/administrator/workplace/work/project_6/data/prediction/96_2_2_test.csv\"\n",
    "\n",
    "cache_folder=\"/home/administrator/workplace/work/project_6\"+\"/cache\""
   ]
  },
  {
   "cell_type": "code",
   "execution_count": 27,
   "metadata": {
    "ExecuteTime": {
     "end_time": "2019-03-22T12:33:31.347869Z",
     "start_time": "2019-03-22T12:20:55.695025Z"
    }
   },
   "outputs": [
    {
     "name": "stdout",
     "output_type": "stream",
     "text": [
      "WRMF work starts\n",
      "Train WRMF\n",
      "Predict by WRMF\n"
     ]
    }
   ],
   "source": [
    "WRMF(mymedialite_folder=mymedialite_folder, \n",
    "     train_path=train_path, \n",
    "     validation_path=validation_path, \n",
    "     prediction_path=path_v, \n",
    "     cache_folder=cache_folder,\n",
    "     k=20, random_seed=42, \n",
    "     parameters=dict(num_factors=10, regularization=0.015, alpha=1, num_iter=15))"
   ]
  },
  {
   "cell_type": "code",
   "execution_count": 28,
   "metadata": {
    "ExecuteTime": {
     "end_time": "2019-03-22T12:54:46.318916Z",
     "start_time": "2019-03-22T12:34:45.680606Z"
    }
   },
   "outputs": [
    {
     "name": "stdout",
     "output_type": "stream",
     "text": [
      "Read Data\n",
      "Convert test\n",
      "Convert prediction\n",
      "Compute metrics\n"
     ]
    }
   ],
   "source": [
    "val_val96=validation(validation_path=validation_path, \n",
    "                     prediction_path=path_v, k=20,\n",
    "                      max_threads=3,\n",
    "                     input_names=[\"user\", \"item\", \"impl\", \"is_relevant\", \"time\"])"
   ]
  },
  {
   "cell_type": "code",
   "execution_count": 29,
   "metadata": {
    "ExecuteTime": {
     "end_time": "2019-03-22T12:54:46.341345Z",
     "start_time": "2019-03-22T12:54:46.333572Z"
    }
   },
   "outputs": [
    {
     "data": {
      "text/plain": [
       "0.010444427882973707"
      ]
     },
     "execution_count": 29,
     "metadata": {},
     "output_type": "execute_result"
    }
   ],
   "source": [
    "val_val96"
   ]
  },
  {
   "cell_type": "code",
   "execution_count": 93,
   "metadata": {
    "ExecuteTime": {
     "end_time": "2019-03-22T13:36:06.113806Z",
     "start_time": "2019-03-22T13:36:06.109613Z"
    }
   },
   "outputs": [],
   "source": [
    "mymedialite_folder = \"/home/administrator/libraries/MyMediaLite\"\n",
    "\n",
    "train_path = data_path + \"all_datasets/96_2_2mixcol/train.csv\"\n",
    "validation_path = data_path + \"all_datasets/96_2_2mixcol/validation.csv\"\n",
    "test_path = data_path + \"all_datasets/96_2_2mixcol/test.csv\"\n",
    "\n",
    "path_v=\"/home/administrator/workplace/work/project_6/data/prediction/96_2_2mixcol_validation.csv\"\n",
    "path_t=\"/home/administrator/workplace/work/project_6/data/prediction/96_2_2mixcol_test.csv\"\n",
    "\n",
    "cache_folder=\"/home/administrator/workplace/work/project_6\"+\"/cache\""
   ]
  },
  {
   "cell_type": "code",
   "execution_count": 92,
   "metadata": {
    "ExecuteTime": {
     "end_time": "2019-03-22T13:35:05.947836Z",
     "start_time": "2019-03-22T13:35:05.925918Z"
    },
    "code_folding": []
   },
   "outputs": [],
   "source": []
  },
  {
   "cell_type": "code",
   "execution_count": 74,
   "metadata": {
    "ExecuteTime": {
     "end_time": "2019-03-22T13:17:43.417105Z",
     "start_time": "2019-03-22T13:17:43.406541Z"
    }
   },
   "outputs": [],
   "source": []
  },
  {
   "cell_type": "code",
   "execution_count": 82,
   "metadata": {
    "ExecuteTime": {
     "end_time": "2019-03-22T13:24:23.530863Z",
     "start_time": "2019-03-22T13:24:23.519675Z"
    },
    "code_folding": []
   },
   "outputs": [],
   "source": []
  },
  {
   "cell_type": "code",
   "execution_count": 83,
   "metadata": {
    "ExecuteTime": {
     "end_time": "2019-03-22T13:24:24.253898Z",
     "start_time": "2019-03-22T13:24:24.249894Z"
    },
    "code_folding": []
   },
   "outputs": [],
   "source": []
  },
  {
   "cell_type": "code",
   "execution_count": 94,
   "metadata": {
    "ExecuteTime": {
     "end_time": "2019-03-22T13:38:06.402339Z",
     "start_time": "2019-03-22T13:36:12.167168Z"
    }
   },
   "outputs": [
    {
     "name": "stdout",
     "output_type": "stream",
     "text": [
      "Test converting\n"
     ]
    },
    {
     "data": {
      "application/vnd.jupyter.widget-view+json": {
       "model_id": "17ea5a654dfb4e92be0b23f9ed02651f",
       "version_major": 2,
       "version_minor": 0
      },
      "text/plain": [
       "HBox(children=(IntProgress(value=0, max=62666), HTML(value='')))"
      ]
     },
     "metadata": {},
     "output_type": "display_data"
    },
    {
     "name": "stdout",
     "output_type": "stream",
     "text": [
      "\n",
      "Prediction converting\n"
     ]
    },
    {
     "data": {
      "application/vnd.jupyter.widget-view+json": {
       "model_id": "d1e7a79348014b11b95e10710a6380f8",
       "version_major": 2,
       "version_minor": 0
      },
      "text/plain": [
       "HBox(children=(IntProgress(value=0, max=58919), HTML(value='')))"
      ]
     },
     "metadata": {},
     "output_type": "display_data"
    },
    {
     "name": "stdout",
     "output_type": "stream",
     "text": [
      "\n"
     ]
    },
    {
     "data": {
      "text/plain": [
       "0.02793314639531309"
      ]
     },
     "execution_count": 94,
     "metadata": {},
     "output_type": "execute_result"
    }
   ],
   "source": [
    "validation(validation_path, path_v, 20,\n",
    "           names=[\"user\", \"item\",\"is_relevant\",\"impl\", \"time\"])"
   ]
  },
  {
   "cell_type": "code",
   "execution_count": 77,
   "metadata": {
    "ExecuteTime": {
     "end_time": "2019-03-22T13:21:17.906741Z",
     "start_time": "2019-03-22T13:21:17.836217Z"
    }
   },
   "outputs": [
    {
     "data": {
      "text/plain": [
       "0.02517825453976722"
      ]
     },
     "execution_count": 77,
     "metadata": {},
     "output_type": "execute_result"
    }
   ],
   "source": [
    "average_precision(dict_val_rel, dict_pred, 20)"
   ]
  },
  {
   "cell_type": "code",
   "execution_count": 67,
   "metadata": {
    "ExecuteTime": {
     "end_time": "2019-03-22T13:16:59.721160Z",
     "start_time": "2019-03-22T13:16:59.676544Z"
    }
   },
   "outputs": [
    {
     "data": {
      "text/plain": [
       "0.02793314639531309"
      ]
     },
     "execution_count": 67,
     "metadata": {},
     "output_type": "execute_result"
    }
   ],
   "source": [
    "average_precision(dict_val_rel, dict_pred, 20)"
   ]
  },
  {
   "cell_type": "code",
   "execution_count": null,
   "metadata": {},
   "outputs": [],
   "source": []
  },
  {
   "cell_type": "code",
   "execution_count": null,
   "metadata": {},
   "outputs": [],
   "source": []
  },
  {
   "cell_type": "code",
   "execution_count": null,
   "metadata": {},
   "outputs": [],
   "source": [
    "validation_dict = {}\n",
    "for user in list(df_part.user.unique()):\n",
    "    validation_dict[user] = set(df_part.loc[df_part.user == user, \"item\"])"
   ]
  }
 ],
 "metadata": {
  "kernelspec": {
   "display_name": "rekko",
   "language": "python",
   "name": "rekko"
  },
  "language_info": {
   "codemirror_mode": {
    "name": "ipython",
    "version": 3
   },
   "file_extension": ".py",
   "mimetype": "text/x-python",
   "name": "python",
   "nbconvert_exporter": "python",
   "pygments_lexer": "ipython3",
   "version": "3.7.1"
  },
  "toc": {
   "base_numbering": 1,
   "nav_menu": {},
   "number_sections": true,
   "sideBar": true,
   "skip_h1_title": false,
   "title_cell": "Table of Contents",
   "title_sidebar": "Contents",
   "toc_cell": false,
   "toc_position": {
    "height": "calc(100% - 180px)",
    "left": "10px",
    "top": "150px",
    "width": "165px"
   },
   "toc_section_display": true,
   "toc_window_display": true
  },
  "varInspector": {
   "cols": {
    "lenName": 16,
    "lenType": 16,
    "lenVar": 40
   },
   "kernels_config": {
    "python": {
     "delete_cmd_postfix": "",
     "delete_cmd_prefix": "del ",
     "library": "var_list.py",
     "varRefreshCmd": "print(var_dic_list())"
    },
    "r": {
     "delete_cmd_postfix": ") ",
     "delete_cmd_prefix": "rm(",
     "library": "var_list.r",
     "varRefreshCmd": "cat(var_dic_list()) "
    }
   },
   "oldHeight": 681.38366,
   "position": {
    "height": "40px",
    "left": "1063.3px",
    "right": "20px",
    "top": "120px",
    "width": "250px"
   },
   "types_to_exclude": [
    "module",
    "function",
    "builtin_function_or_method",
    "instance",
    "_Feature"
   ],
   "varInspector_section_display": "none",
   "window_display": true
  }
 },
 "nbformat": 4,
 "nbformat_minor": 2
}
